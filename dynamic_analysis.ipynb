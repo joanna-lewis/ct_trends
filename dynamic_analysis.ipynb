{
 "cells": [
  {
   "cell_type": "markdown",
   "metadata": {},
   "source": [
    "# Chlamydia in England, 2000-2015: dynamic analysis\n",
    "\n",
    "Our analysis of chlamydia prevalence estimates between 2000 and 2015 assumes a system is in a steady state. This workbook investigates this assumption in more detail.\n",
    "\n",
    "## Data\n",
    "Begin by reading in the data:"
   ]
  },
  {
   "cell_type": "code",
   "execution_count": 1,
   "metadata": {
    "collapsed": true
   },
   "outputs": [],
   "source": [
    "import pandas as pd\n",
    "from pandas import *\n",
    "pd.options.mode.chained_assignment = None  # default='warn'\n",
    "\n",
    "population_f = pd.read_csv('data/population_f.csv', index_col=0)\n",
    "population_m = pd.read_csv('data/population_m.csv', index_col=0)\n",
    "\n",
    "tests_f_max = pd.read_csv('data/tests_f_max.csv', index_col=0)\n",
    "tests_f_min = pd.read_csv('data/tests_f_min.csv', index_col=0)\n",
    "tests_m_max = pd.read_csv('data/tests_m_max.csv', index_col=0)\n",
    "tests_m_min = pd.read_csv('data/tests_m_min.csv', index_col=0)\n",
    "\n",
    "diagnoses_f_max = pd.read_csv('data/diagnoses_f_max.csv', index_col=0)\n",
    "diagnoses_f_min = pd.read_csv('data/diagnoses_f_min.csv', index_col=0)\n",
    "diagnoses_m_max = pd.read_csv('data/diagnoses_m_max.csv', index_col=0)\n",
    "diagnoses_m_min = pd.read_csv('data/diagnoses_m_min.csv', index_col=0)"
   ]
  },
  {
   "cell_type": "markdown",
   "metadata": {},
   "source": [
    "## Calculating chlamydia prevalence\n",
    "\n",
    "We now estimate year-on-year changes in chlamydia prevalence, using the method described in Lewis and White Epidemiology 28:492-502 (2017) and at https://github.com/joanna-lewis/ct_surveillance.\n",
    "\n",
    "Sample testing and diagnosis rates, based on the data."
   ]
  },
  {
   "cell_type": "code",
   "execution_count": 3,
   "metadata": {
    "collapsed": false
   },
   "outputs": [],
   "source": [
    "from scipy.stats import beta\n",
    "from scipy.stats import gamma\n",
    "\n",
    "import numpy as np\n",
    "from numpy import *\n",
    "from numpy.random import normal\n",
    "\n",
    "rs = random.RandomState(12345)\n",
    "\n",
    "n_sample = 10000\n",
    "\n",
    "# proportion sexually active\n",
    "\n",
    "p_active_f = empty([1,4,n_sample])\n",
    "p_active_m = empty([1,4,n_sample])\n",
    "\n",
    "# Beta parameters from analysis in R\n",
    "p_active_f[0,0,:] = rs.beta(313.4784, 146.67142, size=n_sample) # 16-19\n",
    "p_active_f[0,1,:] = rs.beta(694.6619, 37.21263, size=n_sample) # 20-24\n",
    "p_active_f[0,2,:] = rs.beta(3052.6887, 22.20244, size=n_sample) # 25-34\n",
    "p_active_f[0,3,:] = rs.beta(2261.2593, 19.68334, size=n_sample) # 35-44\n",
    "\n",
    "p_active_m[0,0,:] = rs.beta(265.5745, 141.82596, size=n_sample) # 16-19\n",
    "p_active_m[0,1,:] = rs.beta(552.6503, 38.68801, size=n_sample) # 20-24\n",
    "p_active_m[0,2,:] = rs.beta(1629.9402, 58.42669, size=n_sample) # 25-34\n",
    "p_active_m[0,3,:] = rs.beta(2023.0315, 36.71242, size=n_sample) # 35-44\n",
    "\n",
    "# population sexually active\n",
    "\n",
    "pop_active_f = empty([16,4,n_sample])\n",
    "pop_active_m = empty([16,4,n_sample])\n",
    "\n",
    "for i in xrange(16):\n",
    "    for j in xrange(4):\n",
    "\n",
    "        pop_active_f[i,j,:] = rs.binomial(\n",
    "            int(pd.DataFrame.as_matrix(population_f)[i,j]), p_active_f[0,j,:], size=n_sample)\n",
    "        \n",
    "        pop_active_m[i,j,:] = rs.binomial(\n",
    "            int(pd.DataFrame.as_matrix(population_m)[i,j]), p_active_m[0,j,:], size=n_sample)"
   ]
  },
  {
   "cell_type": "markdown",
   "metadata": {},
   "source": [
    "Next, sample from distributions for the probability of being sexually active, the size of the sexually active population and the testing and diagnosis rates per person per year."
   ]
  },
  {
   "cell_type": "code",
   "execution_count": 4,
   "metadata": {
    "collapsed": true
   },
   "outputs": [],
   "source": [
    "# testing and diagnosis rates, per person per year\n",
    "\n",
    "test_rate_f_max = empty([16,4,n_sample])\n",
    "test_rate_f_min = empty([16,4,n_sample])\n",
    "test_rate_m_max = empty([16,4,n_sample])\n",
    "test_rate_m_min = empty([16,4,n_sample])\n",
    "\n",
    "diag_rate_f_max = empty([16,4,n_sample])\n",
    "diag_rate_f_min = empty([16,4,n_sample])\n",
    "diag_rate_m_max = empty([16,4,n_sample])\n",
    "diag_rate_m_min = empty([16,4,n_sample])\n",
    "\n",
    "for i in xrange(16):\n",
    "    for j in xrange(4):\n",
    "\n",
    "        test_rate_f_max[i,j] = rs.gamma(\n",
    "            pd.DataFrame.as_matrix(tests_f_max)[i,j]*pd.DataFrame.as_matrix(population_f)[i,j]/100., 1, size=n_sample)/ \\\n",
    "            pop_active_f[i,j]\n",
    "        test_rate_f_min[i,j] = rs.gamma(\n",
    "            pd.DataFrame.as_matrix(tests_f_min)[i,j]*pd.DataFrame.as_matrix(population_f)[i,j]/100., 1, size=n_sample)/ \\\n",
    "            pop_active_f[i,j]\n",
    "        test_rate_m_max[i,j] = rs.gamma(\n",
    "            pd.DataFrame.as_matrix(tests_m_max)[i,j]*pd.DataFrame.as_matrix(population_m)[i,j]/100., 1, size=n_sample)/ \\\n",
    "            pop_active_m[i,j]\n",
    "        test_rate_m_min[i,j] = rs.gamma(\n",
    "            pd.DataFrame.as_matrix(tests_m_min)[i,j]*pd.DataFrame.as_matrix(population_m)[i,j]/100., 1, size=n_sample)/ \\\n",
    "            pop_active_m[i,j]\n",
    "\n",
    "        diag_rate_f_max[i,j] = rs.gamma(\n",
    "            pd.DataFrame.as_matrix(diagnoses_f_max)[i,j]*pd.DataFrame.as_matrix(population_f)[i,j]/100000., 1, size=n_sample)/ \\\n",
    "            pop_active_f[i,j]\n",
    "        diag_rate_f_min[i,j] = rs.gamma(\n",
    "            pd.DataFrame.as_matrix(diagnoses_f_min)[i,j]*pd.DataFrame.as_matrix(population_f)[i,j]/100000., 1, size=n_sample)/ \\\n",
    "            pop_active_f[i,j]\n",
    "        diag_rate_m_max[i,j] = rs.gamma(\n",
    "            pd.DataFrame.as_matrix(diagnoses_m_max)[i,j]*pd.DataFrame.as_matrix(population_m)[i,j]/100000., 1, size=n_sample)/ \\\n",
    "            pop_active_m[i,j]\n",
    "        diag_rate_m_min[i,j] = rs.gamma(\n",
    "            pd.DataFrame.as_matrix(diagnoses_m_min)[i,j]*pd.DataFrame.as_matrix(population_m)[i,j]/100000., 1, size=n_sample)/ \\\n",
    "            pop_active_m[i,j]\n",
    "\n"
   ]
  },
  {
   "cell_type": "code",
   "execution_count": 5,
   "metadata": {
    "collapsed": true
   },
   "outputs": [],
   "source": [
    "# This script contains the functions linking observed tests, symptomatic/asymptomatic/toal diagnoses, \n",
    "# incidence, prevalence, screening and other model parameters\n",
    "# Running it takes a little while because of all the symbolic algebra\n",
    "%run -i test_diag_fun.py\n",
    "\n",
    "# This script provides a function for calculating the likelihood of categorical data.\n",
    "%run -i multinomial_pmf.py\n",
    "\n",
    "# This script samples model parameters from prior distributions, following the method in england.ipynb.\n",
    "%run -i sample_parameters.py"
   ]
  },
  {
   "cell_type": "code",
   "execution_count": 6,
   "metadata": {
    "collapsed": false
   },
   "outputs": [
    {
     "name": "stdout",
     "output_type": "stream",
     "text": [
      "i =  0\n",
      "i =  1\n",
      "i =  2\n",
      "i =  3\n",
      "i =  4\n",
      "i =  5\n",
      "i =  6\n",
      "i =  7\n",
      "i =  8\n",
      "i =  9\n",
      "i =  10\n",
      "i =  11\n",
      "i =  12\n",
      "i =  13\n",
      "i =  14\n",
      "i =  15\n",
      "Finished.\n"
     ]
    },
    {
     "name": "stderr",
     "output_type": "stream",
     "text": [
      "/System/Library/Frameworks/Python.framework/Versions/2.7/Extras/lib/python/scipy/optimize/minpack.py:236: RuntimeWarning: The iteration is not making good progress, as measured by the \n",
      "  improvement from the last ten iterations.\n",
      "  warnings.warn(msg, RuntimeWarning)\n"
     ]
    }
   ],
   "source": [
    "# The sampled parameter values are now used to infer prevalence in men and women in different age groups, each year.\n",
    "# max and min refer to the numbers of tests and diagnoses\n",
    "\n",
    "prev_f_min = empty([16,4,n_sample])\n",
    "inc_f_min = empty([16,4,n_sample])\n",
    "scr_f_min = empty([16,4,n_sample])\n",
    "\n",
    "prev_f_max = empty([16,4,n_sample])\n",
    "inc_f_max = empty([16,4,n_sample])\n",
    "scr_f_max = empty([16,4,n_sample])\n",
    "\n",
    "prev_m_min = empty([16,4,n_sample])\n",
    "inc_m_min = empty([16,4,n_sample])\n",
    "scr_m_min = empty([16,4,n_sample])\n",
    "\n",
    "prev_m_max = empty([16,4,n_sample])\n",
    "inc_m_max = empty([16,4,n_sample])\n",
    "scr_m_max = empty([16,4,n_sample])\n",
    "\n",
    "for i in xrange(16):\n",
    "    print 'i = ', i\n",
    "    for j in xrange(4):\n",
    "#        print 'j = ', j\n",
    "        for k in xrange(n_sample):\n",
    "            \n",
    "            # prevalence in women (minimum tests and diagnoses)\n",
    "            [inc_f_min[i,j,k], scr_f_min[i,j,k]] = fsolve(lambda x: test_diag_fun(concatenate([\n",
    "                            x, array([\n",
    "                                    1-p_asymp_f[k], # proportion of incident infections which are symptomatic\n",
    "                                    sc_f[k], # rate of self-clear \n",
    "                                    att_symp[k],\n",
    "                                    p_true_pos_f[k], \n",
    "                                    p_false_pos_f[k]\n",
    "                                ])])) - array([test_rate_f_min[i,j,k],diag_rate_f_min[i,j,k]]), [0.09, 0.25])\n",
    "            prev_f_min[i,j,k] = dyn_fun(\n",
    "                inc_f_min[i,j,k]*p_asymp_f[k], \n",
    "                sc_f[k] + scr_f_min[i,j,k]*p_true_pos_f[k], \n",
    "                inc_f_min[i,j,k]*(1-p_asymp_f[k]), \n",
    "                scr_f_min[i,j,k]*p_true_pos_f[k] + att_symp[k]*p_true_pos_f[k]\n",
    "                )\n",
    "            \n",
    "            # maximum prevalence in women (maximum tests and diagnoses)\n",
    "            [inc_f_max[i,j,k], scr_f_max[i,j,k]] = fsolve(lambda x: test_diag_fun(concatenate([\n",
    "                            x, array([\n",
    "                                    1-p_asymp_f[k], # proportion of incident infections which are symptomatic\n",
    "                                    sc_f[k], # rate of self-clear \n",
    "                                    att_symp[k],\n",
    "                                    p_true_pos_f[k], \n",
    "                                    p_false_pos_f[k]\n",
    "                                ])])) - array([test_rate_f_max[i,j,k],diag_rate_f_max[i,j,k]]), [0.09, 0.25])\n",
    "            prev_f_max[i,j,k] = dyn_fun(\n",
    "                inc_f_max[i,j,k]*p_asymp_f[k], \n",
    "                sc_f[k] + scr_f_max[i,j,k]*p_true_pos_f[k], \n",
    "                inc_f_max[i,j,k]*(1-p_asymp_f[k]), \n",
    "                scr_f_max[i,j,k]*p_true_pos_f[k] + att_symp[k]*p_true_pos_f[k]\n",
    "                )\n",
    "            \n",
    "            # prevalence in men (minimum tests and diagnoses)\n",
    "            [inc_m_min[i,j,k], scr_m_min[i,j,k]] = fsolve(lambda x: test_diag_fun(concatenate([\n",
    "                            x, array([\n",
    "                                    1-p_asymp_m[k], # proportion of incident infections which are symptomatic\n",
    "                                    sc_m[k], # rate of self-clear \n",
    "                                    att_symp[k],\n",
    "                                    p_true_pos_m[k], \n",
    "                                    p_false_pos_m[k]\n",
    "                                ])])) - array([test_rate_m_min[i,j,k],diag_rate_m_min[i,j,k]]), [0.09, 0.25])\n",
    "            prev_m_min[i,j,k] = dyn_fun(\n",
    "                inc_m_min[i,j,k]*p_asymp_m[k], \n",
    "                sc_m[k] + scr_m_min[i,j,k]*p_true_pos_m[k], \n",
    "                inc_m_min[i,j,k]*(1-p_asymp_m[k]), \n",
    "                scr_m_min[i,j,k]*p_true_pos_m[k] + att_symp[k]*p_true_pos_m[k]\n",
    "                )\n",
    "\n",
    "            # prevalence in men (maximum tests and diagnoses)\n",
    "            [inc_m_max[i,j,k], scr_m_max[i,j,k]] = fsolve(lambda x: test_diag_fun(concatenate([\n",
    "                            x, array([\n",
    "                                    1-p_asymp_m[k], # proportion of incident infections which are symptomatic\n",
    "                                    sc_m[k], # rate of self-clear \n",
    "                                    att_symp[k],\n",
    "                                    p_true_pos_m[k], \n",
    "                                    p_false_pos_m[k]\n",
    "                                ])])) - array([test_rate_m_max[i,j,k],diag_rate_m_max[i,j,k]]), [0.09, 0.25])\n",
    "            prev_m_max[i,j,k] = dyn_fun(\n",
    "                inc_m_max[i,j,k]*p_asymp_m[k], \n",
    "                sc_m[k] + scr_m_max[i,j,k]*p_true_pos_m[k], \n",
    "                inc_m_max[i,j,k]*(1-p_asymp_m[k]), \n",
    "                scr_m_max[i,j,k]*p_true_pos_m[k] + att_symp[k]*p_true_pos_m[k]\n",
    "                )\n",
    "    \n",
    "print 'Finished.'"
   ]
  },
  {
   "cell_type": "code",
   "execution_count": 8,
   "metadata": {
    "collapsed": false
   },
   "outputs": [],
   "source": [
    "from scipy.optimize import fsolve\n",
    "\n",
    "tsym, dsym, ssym, test_sym, p_true_pos, p_false_pos = symbols('tsym dsym ssym test_sym p_true_pos p_false_pos')\n",
    "\n",
    "model_test_diag = [\n",
    "    tsym - ( ssym + (1 - A - U)*test_sym ),\n",
    "    dsym - ( A*ssym*p_true_pos + U*ssym*p_false_pos + (1 - A - U)*test_sym*p_true_pos )\n",
    "    ]\n",
    "\n",
    "sol_test_diag = solve(model_test_diag, tsym, dsym)\n",
    "test_fun = lambdify((A, U, ssym, test_sym), sol_test_diag[tsym])\n",
    "diag_fun = lambdify((A, U, ssym, test_sym), sol_test_diag[dsym])\n",
    "\n",
    "def test_diag_fun(parms):\n",
    "    # parms = (incidence, screening rate)\n",
    "    inc = parms[0]\n",
    "    scr = parms[1]\n",
    "    \n",
    "    A = A_fun(inc*p_asymp, sc + scr*p_true_pos, inc*(1 - p_asymp), scr*p_true_pos + att_symp*p_true_pos)\n",
    "    U = U_fun(inc*p_asymp, sc + scr*p_true_pos, inc*(1 - p_asymp), scr*p_true_pos + att_symp*p_true_pos)\n",
    "    return [test_fun(A, U, scr, att_symp), diag_fun(A, U, scr, att_symp)]\n",
    "\n",
    "\n",
    "# set up a function to simulate system dynamics when perturbed from steady state\n",
    "from scipy.integrate import odeint\n",
    "\n",
    "def dydt(y, t, parms):\n",
    "    return([\n",
    "    parms[1]*y[1] + parms[3]*y[2] - (parms[0] + parms[2])*y[0],\n",
    "    parms[0]*y[0] - parms[1]*y[1],\n",
    "    parms[2]*y[0] - parms[3]*y[2]\n",
    "    ])"
   ]
  },
  {
   "cell_type": "code",
   "execution_count": 42,
   "metadata": {
    "collapsed": false
   },
   "outputs": [
    {
     "data": {
      "image/png": "[encoded data removed]",
      "text/plain": [
       "<matplotlib.figure.Figure at 0x10f52f450>"
      ]
     },
     "metadata": {},
     "output_type": "display_data"
    }
   ],
   "source": [
    "# minimum figures; women\n",
    "\n",
    "%matplotlib inline\n",
    "import matplotlib.pyplot as plt\n",
    "\n",
    "cols=['k','r','g','c']\n",
    "\n",
    "for j in xrange(4):\n",
    "    \n",
    "    ind = argmin(np.abs(np.median(prev_f_min[0,j,:]) - prev_f_min[0,j,:]))\n",
    "    \n",
    "    U_2000 = U_fun(\n",
    "        inc_f_min[0,j,ind]*p_asymp_f[ind], \n",
    "        att_symp[ind] + scr_f_min[0,j,ind]*p_true_pos_f[ind], \n",
    "        inc_f_min[0,j,ind]*(1-p_asymp_f[ind]), \n",
    "        scr_f_min[0,j,ind]*p_true_pos_f[ind] + att_symp[ind]*p_true_pos_f[ind]\n",
    "        )\n",
    "    \n",
    "    A_2000 = A_fun(\n",
    "        inc_f_min[0,j,ind]*p_asymp_f[ind], \n",
    "        att_symp[ind] + scr_f_min[0,j,ind]*p_true_pos_f[ind], \n",
    "        inc_f_min[0,j,ind]*(1-p_asymp_f[ind]), \n",
    "        scr_f_min[0,j,ind]*p_true_pos_f[ind] + att_symp[ind]*p_true_pos_f[ind]\n",
    "        )\n",
    "    \n",
    "    S_2000 = S_fun(\n",
    "        inc_f_min[0,j,ind]*p_asymp_f[ind], \n",
    "        att_symp[ind] + scr_f_min[0,j,ind]*p_true_pos_f[ind], \n",
    "        inc_f_min[0,j,ind]*(1-p_asymp_f[ind]), \n",
    "        scr_f_min[0,j,ind]*p_true_pos_f[ind] + att_symp[ind]*p_true_pos_f[ind]\n",
    "        )\n",
    "    \n",
    "    sol = empty([1000,3])\n",
    "    sol[999,0] = U_2000\n",
    "    sol[999,1] = A_2000\n",
    "    sol[999,2] = S_2000    \n",
    "    \n",
    "    for i in xrange(16):\n",
    "    \n",
    "        # parameters\n",
    "        parms = [inc_f_min[i,j,ind]*p_asymp_f[ind], \n",
    "                 att_symp[ind] + scr_f_min[i,j,ind]*p_true_pos_f[ind], \n",
    "                 inc_f_min[i,j,ind]*(1-p_asymp_f[ind]), \n",
    "                 scr_f_min[i,j,ind]*p_true_pos_f[ind] + att_symp[ind]*p_true_pos_f[ind]]\n",
    "    \n",
    "        # solve\n",
    "        sol = odeint(dydt, \n",
    "               sol[999,:], \n",
    "               linspace(0,10,1000), \n",
    "               args = (parms,)\n",
    "              )\n",
    "\n",
    "        # plot\n",
    "        plt.plot(2000 + i + linspace(0,1,1000), \n",
    "                 sol[:,1] + sol[:,2],\n",
    "                 cols[j]\n",
    "                )\n",
    "        \n",
    "#plt.xlim([2009,2013])\n",
    "#plt.ylim([0,0.001])"
   ]
  },
  {
   "cell_type": "code",
   "execution_count": 43,
   "metadata": {
    "collapsed": false
   },
   "outputs": [
    {
     "data": {
      "image/png": "[encoded data removed]",
      "text/plain": [
       "<matplotlib.figure.Figure at 0x10f746750>"
      ]
     },
     "metadata": {},
     "output_type": "display_data"
    }
   ],
   "source": [
    "# maximum figures; women\n",
    "\n",
    "%matplotlib inline\n",
    "import matplotlib.pyplot as plt\n",
    "\n",
    "cols=['k','r','g','c']\n",
    "\n",
    "for j in xrange(4):\n",
    "    \n",
    "    ind = argmin(np.abs(np.median(prev_f_max[0,j,:]) - prev_f_max[0,j,:]))\n",
    "    \n",
    "    U_2000 = U_fun(\n",
    "        inc_f_max[0,j,ind]*p_asymp_f[ind], \n",
    "        att_symp[ind] + scr_f_max[0,j,ind]*p_true_pos_f[ind], \n",
    "        inc_f_max[0,j,ind]*(1-p_asymp_f[ind]), \n",
    "        scr_f_max[0,j,ind]*p_true_pos_f[ind] + att_symp[ind]*p_true_pos_f[ind]\n",
    "        )\n",
    "    \n",
    "    A_2000 = A_fun(\n",
    "        inc_f_max[0,j,ind]*p_asymp_f[ind], \n",
    "        att_symp[ind] + scr_f_max[0,j,ind]*p_true_pos_f[ind], \n",
    "        inc_f_max[0,j,ind]*(1-p_asymp_f[ind]), \n",
    "        scr_f_max[0,j,ind]*p_true_pos_f[ind] + att_symp[ind]*p_true_pos_f[ind]\n",
    "        )\n",
    "    \n",
    "    S_2000 = S_fun(\n",
    "        inc_f_max[0,j,ind]*p_asymp_f[ind], \n",
    "        att_symp[ind] + scr_f_max[0,j,ind]*p_true_pos_f[ind], \n",
    "        inc_f_max[0,j,ind]*(1-p_asymp_f[ind]), \n",
    "        scr_f_max[0,j,ind]*p_true_pos_f[ind] + att_symp[ind]*p_true_pos_f[ind]\n",
    "        )\n",
    "    \n",
    "    sol = empty([1000,3])\n",
    "    sol[999,0] = U_2000\n",
    "    sol[999,1] = A_2000\n",
    "    sol[999,2] = S_2000    \n",
    "    \n",
    "    for i in xrange(16):\n",
    "    \n",
    "        # parameters\n",
    "        parms = [inc_f_max[i,j,ind]*p_asymp_f[ind], \n",
    "                 att_symp[ind] + scr_f_max[i,j,ind]*p_true_pos_f[ind], \n",
    "                 inc_f_max[i,j,ind]*(1-p_asymp_f[ind]), \n",
    "                 scr_f_max[i,j,ind]*p_true_pos_f[ind] + att_symp[ind]*p_true_pos_f[ind]]\n",
    "    \n",
    "        # solve\n",
    "        sol = odeint(dydt, \n",
    "               sol[999,:], \n",
    "               linspace(0,10,1000), \n",
    "               args = (parms,)\n",
    "              )\n",
    "\n",
    "        # plot\n",
    "        plt.plot(2000 + i + linspace(0,1,1000), \n",
    "                 sol[:,1] + sol[:,2],\n",
    "                 cols[j]\n",
    "                )\n",
    "        \n",
    "#plt.xlim([2009,2013])\n",
    "#plt.ylim([0,0.001])"
   ]
  },
  {
   "cell_type": "code",
   "execution_count": 44,
   "metadata": {
    "collapsed": false
   },
   "outputs": [
    {
     "data": {
      "image/png": "[encoded data removed]",
      "text/plain": [
       "<matplotlib.figure.Figure at 0x10f73b510>"
      ]
     },
     "metadata": {},
     "output_type": "display_data"
    }
   ],
   "source": [
    "# minimum figures; men\n",
    "\n",
    "%matplotlib inline\n",
    "import matplotlib.pyplot as plt\n",
    "\n",
    "cols=['k','r','g','c']\n",
    "\n",
    "for j in xrange(4):\n",
    "    \n",
    "    ind = argmin(np.abs(np.median(prev_m_min[0,j,:]) - prev_m_min[0,j,:]))\n",
    "    \n",
    "    U_2000 = U_fun(\n",
    "        inc_m_min[0,j,ind]*p_asymp_m[ind], \n",
    "        att_symp[ind] + scr_m_min[0,j,ind]*p_true_pos_m[ind], \n",
    "        inc_m_min[0,j,ind]*(1-p_asymp_m[ind]), \n",
    "        scr_m_min[0,j,ind]*p_true_pos_m[ind] + att_symp[ind]*p_true_pos_m[ind]\n",
    "        )\n",
    "    \n",
    "    A_2000 = A_fun(\n",
    "        inc_m_min[0,j,ind]*p_asymp_m[ind], \n",
    "        att_symp[ind] + scr_m_min[0,j,ind]*p_true_pos_m[ind], \n",
    "        inc_m_min[0,j,ind]*(1-p_asymp_m[ind]), \n",
    "        scr_m_min[0,j,ind]*p_true_pos_m[ind] + att_symp[ind]*p_true_pos_m[ind]\n",
    "        )\n",
    "    \n",
    "    S_2000 = S_fun(\n",
    "        inc_m_min[0,j,ind]*p_asymp_m[ind], \n",
    "        att_symp[ind] + scr_m_min[0,j,ind]*p_true_pos_m[ind], \n",
    "        inc_m_min[0,j,ind]*(1-p_asymp_m[ind]), \n",
    "        scr_m_min[0,j,ind]*p_true_pos_m[ind] + att_symp[ind]*p_true_pos_m[ind]\n",
    "        )\n",
    "    \n",
    "    sol = empty([1000,3])\n",
    "    sol[999,0] = U_2000\n",
    "    sol[999,1] = A_2000\n",
    "    sol[999,2] = S_2000    \n",
    "    \n",
    "    for i in xrange(16):\n",
    "    \n",
    "        # parameters\n",
    "        parms = [inc_m_min[i,j,ind]*p_asymp_m[ind], \n",
    "                 att_symp[ind] + scr_m_min[i,j,ind]*p_true_pos_m[ind], \n",
    "                 inc_m_min[i,j,ind]*(1-p_asymp_m[ind]), \n",
    "                 scr_m_min[i,j,ind]*p_true_pos_m[ind] + att_symp[ind]*p_true_pos_m[ind]]\n",
    "    \n",
    "        # solve\n",
    "        sol = odeint(dydt, \n",
    "               sol[999,:], \n",
    "               linspace(0,10,1000), \n",
    "               args = (parms,)\n",
    "              )\n",
    "\n",
    "        # plot\n",
    "        plt.plot(2000 + i + linspace(0,1,1000), \n",
    "                 sol[:,1] + sol[:,2],\n",
    "                 cols[j]\n",
    "                )\n",
    "        \n",
    "#plt.xlim([2009,2013])\n",
    "#plt.ylim([0,0.001])"
   ]
  },
  {
   "cell_type": "code",
   "execution_count": 46,
   "metadata": {
    "collapsed": false
   },
   "outputs": [
    {
     "data": {
      "image/png": "[encoded data removed]",
      "text/plain": [
       "<matplotlib.figure.Figure at 0x10f822690>"
      ]
     },
     "metadata": {},
     "output_type": "display_data"
    }
   ],
   "source": [
    "# maximum figures; men\n",
    "\n",
    "%matplotlib inline\n",
    "import matplotlib.pyplot as plt\n",
    "\n",
    "cols=['k','r','g','c']\n",
    "\n",
    "for j in xrange(4):\n",
    "    \n",
    "    ind = argmin(np.abs(np.median(prev_m_max[0,j,:]) - prev_m_max[0,j,:]))\n",
    "    \n",
    "    U_2000 = U_fun(\n",
    "        inc_m_max[0,j,ind]*p_asymp_m[ind], \n",
    "        att_symp[ind] + scr_m_max[0,j,ind]*p_true_pos_m[ind], \n",
    "        inc_m_max[0,j,ind]*(1-p_asymp_m[ind]), \n",
    "        scr_m_max[0,j,ind]*p_true_pos_m[ind] + att_symp[ind]*p_true_pos_m[ind]\n",
    "        )\n",
    "    \n",
    "    A_2000 = A_fun(\n",
    "        inc_m_max[0,j,ind]*p_asymp_m[ind], \n",
    "        att_symp[ind] + scr_m_max[0,j,ind]*p_true_pos_m[ind], \n",
    "        inc_m_max[0,j,ind]*(1-p_asymp_m[ind]), \n",
    "        scr_m_max[0,j,ind]*p_true_pos_m[ind] + att_symp[ind]*p_true_pos_m[ind]\n",
    "        )\n",
    "    \n",
    "    S_2000 = S_fun(\n",
    "        inc_m_max[0,j,ind]*p_asymp_m[ind], \n",
    "        att_symp[ind] + scr_m_max[0,j,ind]*p_true_pos_m[ind], \n",
    "        inc_m_max[0,j,ind]*(1-p_asymp_m[ind]), \n",
    "        scr_m_max[0,j,ind]*p_true_pos_m[ind] + att_symp[ind]*p_true_pos_m[ind]\n",
    "        )\n",
    "    \n",
    "    sol = empty([1000,3])\n",
    "    sol[999,0] = U_2000\n",
    "    sol[999,1] = A_2000\n",
    "    sol[999,2] = S_2000    \n",
    "    \n",
    "    for i in xrange(16):\n",
    "    \n",
    "        # parameters\n",
    "        parms = [inc_m_max[i,j,ind]*p_asymp_m[ind], \n",
    "                 att_symp[ind] + scr_m_max[i,j,ind]*p_true_pos_m[ind], \n",
    "                 inc_m_max[i,j,ind]*(1-p_asymp_m[ind]), \n",
    "                 scr_m_max[i,j,ind]*p_true_pos_m[ind] + att_symp[ind]*p_true_pos_m[ind]]\n",
    "    \n",
    "        # solve\n",
    "        sol = odeint(dydt, \n",
    "               sol[999,:], \n",
    "               linspace(0,10,1000), \n",
    "               args = (parms,)\n",
    "              )\n",
    "\n",
    "        # plot\n",
    "        plt.plot(2000 + i + linspace(0,1,1000), \n",
    "                 sol[:,1] + sol[:,2],\n",
    "                 cols[j]\n",
    "                )\n",
    "        \n",
    "#plt.xlim([2009,2013])\n",
    "#plt.ylim([0,0.001])"
   ]
  },
  {
   "cell_type": "code",
   "execution_count": 37,
   "metadata": {
    "collapsed": false
   },
   "outputs": [],
   "source": [
    "i=0"
   ]
  },
  {
   "cell_type": "code",
   "execution_count": 28,
   "metadata": {
    "collapsed": false
   },
   "outputs": [
    {
     "data": {
      "text/plain": [
       "3772"
      ]
     },
     "execution_count": 28,
     "metadata": {},
     "output_type": "execute_result"
    }
   ],
   "source": [
    "argmin(np.abs(np.median(prev_f_min[0,j,:]) - prev_f_min[0,j,:]))"
   ]
  },
  {
   "cell_type": "code",
   "execution_count": 35,
   "metadata": {
    "collapsed": false
   },
   "outputs": [
    {
     "data": {
      "text/plain": [
       "0.99832786926796679"
      ]
     },
     "execution_count": 35,
     "metadata": {},
     "output_type": "execute_result"
    }
   ],
   "source": [
    "    U_2000 = U_fun(\n",
    "        inc_f_min[0,j,ind]*p_asymp_f[ind], \n",
    "        att_symp[ind] + scr_f_min[0,j,ind]*p_true_pos_f[ind], \n",
    "        inc_f_min[0,j,ind]*(1-p_asymp_f[ind]), \n",
    "        scr_f_min[0,j,ind]*p_true_pos_f[ind] + att_symp[ind]*p_true_pos_f[ind]\n",
    "        )\n",
    "    \n",
    "    U_2000\n",
    " "
   ]
  },
  {
   "cell_type": "code",
   "execution_count": 34,
   "metadata": {
    "collapsed": false
   },
   "outputs": [
    {
     "data": {
      "text/plain": [
       "3772"
      ]
     },
     "execution_count": 34,
     "metadata": {},
     "output_type": "execute_result"
    }
   ],
   "source": [
    "    ind = argmin(np.abs(np.median(prev_f_min[0,j,:]) - prev_f_min[0,j,:]))\n",
    "ind"
   ]
  },
  {
   "cell_type": "code",
   "execution_count": null,
   "metadata": {
    "collapsed": true
   },
   "outputs": [],
   "source": []
  }
 ],
 "metadata": {
  "kernelspec": {
   "display_name": "Python 2",
   "language": "python",
   "name": "python2"
  },
  "language_info": {
   "codemirror_mode": {
    "name": "ipython",
    "version": 2
   },
   "file_extension": ".py",
   "mimetype": "text/x-python",
   "name": "python",
   "nbconvert_exporter": "python",
   "pygments_lexer": "ipython2",
   "version": "2.7.10"
  }
 },
 "nbformat": 4,
 "nbformat_minor": 0
}
