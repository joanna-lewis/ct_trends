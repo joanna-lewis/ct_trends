{
 "cells": [
  {
   "cell_type": "code",
   "execution_count": 18,
   "metadata": {
    "collapsed": true
   },
   "outputs": [],
   "source": [
    "%matplotlib inline\n",
    "import matplotlib.pyplot as plt\n"
   ]
  },
  {
   "cell_type": "code",
   "execution_count": 1,
   "metadata": {
    "collapsed": true
   },
   "outputs": [],
   "source": [
    "# This script also contains the functions linking observed tests, symptomatic/asymptomatic/toal diagnoses, \n",
    "# incidence, prevalence, screening and other model parameters\n",
    "# Running it takes a little while because of all the symbolic algebra\n",
    "%run -i test_diag_fun.py\n",
    "\n",
    "# This script provides a function for calculating the likelihood of categorical data.\n",
    "%run -i multinomial_pmf.py\n",
    "\n",
    "# This script samples model parameters from prior distributions, following the method in england.ipynb.\n",
    "%run -i sample_parameters.py"
   ]
  },
  {
   "cell_type": "code",
   "execution_count": 39,
   "metadata": {
    "collapsed": false
   },
   "outputs": [
    {
     "name": "stdout",
     "output_type": "stream",
     "text": [
      "                     la  tests.male.15-19  positives.male.15-19  \\\n",
      "0  Barking and Dagenham              1741                    83   \n",
      "1                Barnet               491                    46   \n",
      "2                Bexley               631                    55   \n",
      "3                 Brent              1209                    98   \n",
      "4               Bromley              1049                    59   \n",
      "5                Camden              1225                    91   \n",
      "6        City of London                12                     0   \n",
      "7               Croydon              1570                   146   \n",
      "8                Ealing              1126                    47   \n",
      "9               Enfield               609                    44   \n",
      "\n",
      "   population.male.15-19  \n",
      "0                   6672  \n",
      "1                  10694  \n",
      "2                   7850  \n",
      "3                   9809  \n",
      "4                   9289  \n",
      "5                   5915  \n",
      "6                    113  \n",
      "7                  12161  \n",
      "8                   9660  \n",
      "9                  10808  \n"
     ]
    }
   ],
   "source": [
    "# now read in the local testing and diagnosis rates\n",
    "import pandas as pd\n",
    "from pandas import *\n",
    "pd.options.mode.chained_assignment = None  # default='warn'\n",
    "\n",
    "alldata = pd.read_csv('2012_age_sex_LA.csv')\n",
    "alldata = alldata[alldata.la != 'Isles of Scilly'] # remove Scilly Isles because of small numbers\n",
    "alldata.index = range(len(alldata))\n",
    "print alldata[['la','tests.male.15-19','positives.male.15-19', 'population.male.15-19']][:10]\n",
    "\n",
    "# la: Local Authority (Upper Tier)\n",
    "# gor: Government Office Region\n",
    "# phec: Public Health England Region\n",
    "# pher: Public Health England Centre"
   ]
  },
  {
   "cell_type": "code",
   "execution_count": 4,
   "metadata": {
    "collapsed": true
   },
   "outputs": [],
   "source": [
    "# NB random state (rs) is set in sample_parameters.py, above.\n",
    "\n",
    "# set up arrays to store, for each LA: \n",
    "test_sample_m = empty([n_sample, len(alldata)]) # testing rate\n",
    "test_sample_f = empty([n_sample, len(alldata)])\n",
    "diag_sample_m = empty([n_sample, len(alldata)]) # observed diagnosis rate\n",
    "diag_sample_f = empty([n_sample, len(alldata)])\n",
    "diag_m_la = empty([n_sample, len(alldata)]) # predicted diagnosis rate\n",
    "diag_f_la = empty([n_sample, len(alldata)])\n",
    "\n",
    "for i in xrange(len(alldata.index)):\n",
    "    \n",
    "    #####\n",
    "    # men\n",
    "    #####\n",
    "    # sample for the testing rate, per sexually active 15-24-year-old\n",
    "    test_sample_m[:,i] = rs.gamma(alldata['tests.male.total'][i],1,size = n_sample)/ \\\n",
    "        rs.binomial(alldata['population.male.15-19'][i] + alldata['population.male.20-24'][i], \n",
    "                        p_active_m_16_24, size=n_sample)\n",
    "    diag_sample_m[:,i] = rs.gamma(alldata['positives.male.total'][i],1,size = n_sample)/ \\\n",
    "        rs.binomial(alldata['population.male.15-19'][i] + alldata['population.male.20-24'][i], \n",
    "                        p_active_m_16_24, size=n_sample)\n",
    "        \n",
    "    #####\n",
    "    # women\n",
    "    #####\n",
    "    # sample for the testing rate, per sexually active 15-24-year-old\n",
    "    test_sample_f[:,i] = rs.gamma(alldata['tests.female.total'][i],1,size = n_sample)/ \\\n",
    "        rs.binomial(alldata['population.female.15-19'][i] + alldata['population.female.20-24'][i], \n",
    "                        p_active_f_16_24, size=n_sample)\n",
    "    diag_sample_f[:,i] = rs.gamma(alldata['positives.female.total'][i],1,size = n_sample)/ \\\n",
    "        rs.binomial(alldata['population.female.15-19'][i] + alldata['population.female.20-24'][i], \n",
    "                        p_active_f_16_24, size=n_sample)"
   ]
  },
  {
   "cell_type": "code",
   "execution_count": 5,
   "metadata": {
    "collapsed": false
   },
   "outputs": [
    {
     "name": "stdout",
     "output_type": "stream",
     "text": [
      "0 Barking and Dagenham\n",
      "10 Greenwich\n",
      "20 Kingston upon Thames\n",
      "30 Waltham Forest\n",
      "40 Derbyshire\n",
      "50 Peterborough\n",
      "60 Solihull\n",
      "70 Halton\n",
      "80 Lancashire\n",
      "90 Wigan\n",
      "100 South Tyneside\n",
      "110 Leeds\n",
      "120 Gloucestershire\n",
      "130 Bournemouth\n",
      "140 Medway\n",
      "150 Wokingham\n"
     ]
    }
   ],
   "source": [
    "# set up arrays to store, for each LA: \n",
    "scr_m_la = empty([n_sample, len(alldata)]) # screening (estimated for each LA separately)\n",
    "scr_f_la = empty([n_sample, len(alldata)])\n",
    "inc_m_la = empty([n_sample, len(alldata)])  # estimated incidence\n",
    "inc_f_la = empty([n_sample, len(alldata)])\n",
    "prev_m_la = empty([n_sample, len(alldata)]) # estimated prevalence\n",
    "prev_f_la = empty([n_sample, len(alldata)])\n",
    "\n",
    "for i in xrange(len(alldata.index)):\n",
    "    \n",
    "    # keep track of whether stuff is happening\n",
    "    if fmod(i,10)==0:\n",
    "        print i, alldata.la[i]\n",
    "    \n",
    "    #####\n",
    "    # men\n",
    "    #####\n",
    "        \n",
    "    # screening and diagnosis rates\n",
    "    for j in xrange(n_sample):\n",
    "        # local screening and incidence, given local testing and diagnoses\n",
    "        [inc_m_la[j,i], scr_m_la[j,i]] = fsolve(lambda x: test_diag_fun(concatenate([\n",
    "                        x, array([\n",
    "                                1-p_asymp_m[j], # proportion of incident infections which are symptomatic\n",
    "                                sc_m[j], # rate of self-clear \n",
    "                                att_symp[j],\n",
    "                                p_true_pos_m[j], \n",
    "                                p_false_pos_m[j]\n",
    "                            ])])) - array([test_sample_m[j,i],diag_sample_m[j,i]]), [0.09, 0.25])\n",
    "        # local prevalence, calculated from local screening and incidence\n",
    "        prev_m_la[j,i] = dyn_fun(\n",
    "            inc_m_la[j,i]*p_asymp_m[j], \n",
    "            sc_m[j] + scr_m_la[j,i]*p_true_pos_m[j], \n",
    "            inc_m_la[j,i]*(1-p_asymp_m[j]), \n",
    "            scr_m_la[j,i]*p_true_pos_m[j] + att_symp[j]*p_true_pos_m[j]\n",
    "        )\n",
    "    \n",
    "    #####\n",
    "    # women\n",
    "    #####\n",
    "\n",
    "    # screening and diagnosis rates\n",
    "    diag_f_la[:,i] = zeros(n_sample)\n",
    "    for j in xrange(n_sample):\n",
    "        # local screening and incidence, given local testing and diagnoses\n",
    "        [inc_f_la[j,i], scr_f_la[j,i]] = fsolve(lambda x: test_diag_fun(concatenate([\n",
    "                        x, array([\n",
    "                                1-p_asymp_f[j], # proportion of incident infections which are symptomatic\n",
    "                                sc_f[j], # rate of self-clear \n",
    "                                att_symp[j],\n",
    "                                p_true_pos_f[j], \n",
    "                                p_false_pos_f[j]\n",
    "                            ])])) - array([test_sample_f[j,i],diag_sample_f[j,i]]), [0.09, 0.25])\n",
    "        # local prevalence, calculated from local screening and incidence\n",
    "        prev_f_la[j,i] = dyn_fun(\n",
    "            inc_f_la[j,i]*p_asymp_f[j], \n",
    "            sc_f[j] + scr_f_la[j,i]*p_true_pos_f[j], \n",
    "            inc_f_la[j,i]*(1-p_asymp_f[j]), \n",
    "            scr_f_la[j,i]*p_true_pos_f[j] + att_symp[j]*p_true_pos_f[j]\n",
    "        )\n"
   ]
  },
  {
   "cell_type": "code",
   "execution_count": 24,
   "metadata": {
    "collapsed": false
   },
   "outputs": [
    {
     "name": "stdout",
     "output_type": "stream",
     "text": [
      "   Unnamed: 0  IndicatorID                                      IndicatorName  \\\n",
      "0         649        90739  Pelvic inflammatory disease (PID) admissions r...   \n",
      "1         650        90739  Pelvic inflammatory disease (PID) admissions r...   \n",
      "2         651        90739  Pelvic inflammatory disease (PID) admissions r...   \n",
      "3         652        90739  Pelvic inflammatory disease (PID) admissions r...   \n",
      "4         653        90739  Pelvic inflammatory disease (PID) admissions r...   \n",
      "5         654        90739  Pelvic inflammatory disease (PID) admissions r...   \n",
      "6         655        90739  Pelvic inflammatory disease (PID) admissions r...   \n",
      "7         656        90739  Pelvic inflammatory disease (PID) admissions r...   \n",
      "8         657        90739  Pelvic inflammatory disease (PID) admissions r...   \n",
      "9         658        90739  Pelvic inflammatory disease (PID) admissions r...   \n",
      "\n",
      "  ParentCode ParentName   AreaCode                         AreaName AreaType  \\\n",
      "0        NaN        NaN  E92000001                          England  Country   \n",
      "1  E92000001    England  E12000001                North East region   Region   \n",
      "2  E92000001    England  E12000002                North West region   Region   \n",
      "3  E92000001    England  E12000003  Yorkshire and the Humber region   Region   \n",
      "4  E92000001    England  E12000004             East Midlands region   Region   \n",
      "5  E92000001    England  E12000005             West Midlands region   Region   \n",
      "6  E92000001    England  E12000006           East of England region   Region   \n",
      "7  E92000001    England  E12000007                    London region   Region   \n",
      "8  E92000001    England  E12000008                South East region   Region   \n",
      "9  E92000001    England  E12000009                South West region   Region   \n",
      "\n",
      "      Sex        Age         ...          UpperCI95.0limit  LowerCI99.8limit  \\\n",
      "0  Female  15-44 yrs         ...                231.246865               NaN   \n",
      "1  Female  15-44 yrs         ...                228.765326               NaN   \n",
      "2  Female  15-44 yrs         ...                265.677908               NaN   \n",
      "3  Female  15-44 yrs         ...                238.566901               NaN   \n",
      "4  Female  15-44 yrs         ...                240.034927               NaN   \n",
      "5  Female  15-44 yrs         ...                247.822786               NaN   \n",
      "6  Female  15-44 yrs         ...                206.207478               NaN   \n",
      "7  Female  15-44 yrs         ...                224.189576               NaN   \n",
      "8  Female  15-44 yrs         ...                230.560826               NaN   \n",
      "9  Female  15-44 yrs         ...                255.845932               NaN   \n",
      "\n",
      "  UpperCI99.8limit    Count  Denominator  Valuenote  RecentTrend  \\\n",
      "0              NaN  24411.0   10689519.0        NaN          NaN   \n",
      "1              NaN   1077.0     499767.0        NaN          NaN   \n",
      "2              NaN   3579.0    1391992.0        NaN          NaN   \n",
      "3              NaN   2405.0    1049216.0        NaN          NaN   \n",
      "4              NaN   2025.0     881190.0        NaN          NaN   \n",
      "5              NaN   2625.0    1100537.0        NaN          NaN   \n",
      "6              NaN   2219.0    1121827.0        NaN          NaN   \n",
      "7              NaN   4361.0    2003836.0        NaN          NaN   \n",
      "8              NaN   3735.0    1672766.0        NaN          NaN   \n",
      "9              NaN   2380.0     968388.0        NaN          NaN   \n",
      "\n",
      "   ComparedtoEnglandvalueorpercentiles  \\\n",
      "0                         Not compared   \n",
      "1                                 Same   \n",
      "2                                Worse   \n",
      "3                                 Same   \n",
      "4                                 Same   \n",
      "5                                Worse   \n",
      "6                               Better   \n",
      "7                               Better   \n",
      "8                                 Same   \n",
      "9                                Worse   \n",
      "\n",
      "   Comparedtosubnationalparentvalueorpercentiles  TimeperiodSortable  \n",
      "0                                   Not compared            20120000  \n",
      "1                                   Not compared            20120000  \n",
      "2                                   Not compared            20120000  \n",
      "3                                   Not compared            20120000  \n",
      "4                                   Not compared            20120000  \n",
      "5                                   Not compared            20120000  \n",
      "6                                   Not compared            20120000  \n",
      "7                                   Not compared            20120000  \n",
      "8                                   Not compared            20120000  \n",
      "9                                   Not compared            20120000  \n",
      "\n",
      "[10 rows x 25 columns]\n"
     ]
    }
   ],
   "source": [
    "pid_data = pd.read_csv('PID_byarea.csv')\n",
    "pid_data = pid_data[pid_data.Timeperiod == '2012/13']\n",
    "pid_data.index = range(len(pid_data))\n",
    "print pid_data[:10]\n"
   ]
  },
  {
   "cell_type": "code",
   "execution_count": 40,
   "metadata": {
    "collapsed": false
   },
   "outputs": [],
   "source": [
    "alldata = alldata.merge(pid_data, how='left', left_on = 'la_code', right_on = 'AreaCode')"
   ]
  },
  {
   "cell_type": "code",
   "execution_count": 41,
   "metadata": {
    "collapsed": false
   },
   "outputs": [
    {
     "data": {
      "text/plain": [
       "['la_code',\n",
       " 'la',\n",
       " 'gor',\n",
       " 'phec',\n",
       " 'pher',\n",
       " 'tests.male.15-19',\n",
       " 'tests.male.20-24',\n",
       " 'tests.male.total',\n",
       " 'tests.female.15-19',\n",
       " 'tests.female.20-24',\n",
       " 'tests.female.total',\n",
       " 'tests.total.15-19',\n",
       " 'tests.total.20-24',\n",
       " 'tests.total',\n",
       " 'positives.male.15-19',\n",
       " 'positives.male.20-24',\n",
       " 'positives.male.total',\n",
       " 'positives.female.15-19',\n",
       " 'positives.female.20-24',\n",
       " 'positives.female.total',\n",
       " 'positives.total.15-19',\n",
       " 'positives.total.20-24',\n",
       " 'positives.total',\n",
       " 'population.male.15-19',\n",
       " 'population.male.20-24',\n",
       " 'population.female.15-19',\n",
       " 'population.female.20-24',\n",
       " 'population.total',\n",
       " 'Unnamed: 0',\n",
       " 'IndicatorID',\n",
       " 'IndicatorName',\n",
       " 'ParentCode',\n",
       " 'ParentName',\n",
       " 'AreaCode',\n",
       " 'AreaName',\n",
       " 'AreaType',\n",
       " 'Sex',\n",
       " 'Age',\n",
       " 'CategoryType',\n",
       " 'Category',\n",
       " 'Timeperiod',\n",
       " 'Value',\n",
       " 'LowerCI95.0limit',\n",
       " 'UpperCI95.0limit',\n",
       " 'LowerCI99.8limit',\n",
       " 'UpperCI99.8limit',\n",
       " 'Count',\n",
       " 'Denominator',\n",
       " 'Valuenote',\n",
       " 'RecentTrend',\n",
       " 'ComparedtoEnglandvalueorpercentiles',\n",
       " 'Comparedtosubnationalparentvalueorpercentiles',\n",
       " 'TimeperiodSortable']"
      ]
     },
     "execution_count": 41,
     "metadata": {},
     "output_type": "execute_result"
    }
   ],
   "source": [
    "list(alldata)"
   ]
  },
  {
   "cell_type": "code",
   "execution_count": 53,
   "metadata": {
    "collapsed": false
   },
   "outputs": [
    {
     "data": {
      "text/plain": [
       "[<matplotlib.lines.Line2D at 0x1180ee190>]"
      ]
     },
     "execution_count": 53,
     "metadata": {},
     "output_type": "execute_result"
    },
    {
     "data": {
      "image/png": "[encoded data removed]",
      "text/plain": [
       "<matplotlib.figure.Figure at 0x117f32e90>"
      ]
     },
     "metadata": {},
     "output_type": "display_data"
    }
   ],
   "source": [
    "\n",
    "fig = plt.figure(figsize = (5,5))\n",
    "ax2 = fig.add_subplot(111)\n",
    "\n",
    "ax2.errorbar(\n",
    "    percentile(prev_f_la/(inc_f_la*(1-prev_f_la)), 50, 0), \n",
    "    alldata['Value'],\n",
    "    xerr=squeeze(\n",
    "        array([[percentile(prev_f_la/(inc_f_la*(1-prev_f_la)),50, 0) - percentile(prev_f_la/(inc_f_la*(1-prev_f_la)), 2.5, 0)], \n",
    "            [percentile(prev_f_la/(inc_f_la*(1-prev_f_la)), 97.5, 0) - percentile(prev_f_la/(inc_f_la*(1-prev_f_la)),50, 0)]])),\n",
    "    linestyle='None', color='r', alpha=0.2)\n",
    "ax2.plot(\n",
    "    percentile(prev_f_la/(inc_f_la*(1-prev_f_la)), 50, 0), \n",
    "    alldata['Value'],\n",
    "    '.r')\n",
    "\n",
    "#ax2.set_xlim([0,0.08])#; ax2.set_ylim([0,0.08])\n",
    "#ax2.set_xlabel('Prevalence in sexually active women 15-24')\n",
    "#ax2.set_ylabel('Positivity')\n",
    "#ax2.set_title('Sexually active women 15-24')\n"
   ]
  },
  {
   "cell_type": "code",
   "execution_count": 53,
   "metadata": {
    "collapsed": false
   },
   "outputs": [
    {
     "data": {
      "text/plain": [
       "[<matplotlib.lines.Line2D at 0x1180ee190>]"
      ]
     },
     "execution_count": 53,
     "metadata": {},
     "output_type": "execute_result"
    },
    {
     "data": {
      "image/png": "[encoded data removed]",
      "text/plain": [
       "<matplotlib.figure.Figure at 0x117f32e90>"
      ]
     },
     "metadata": {},
     "output_type": "display_data"
    }
   ],
   "source": [
    "\n",
    "fig = plt.figure(figsize = (5,5))\n",
    "ax2 = fig.add_subplot(111)\n",
    "\n",
    "ax2.errorbar(\n",
    "    percentile(prev_f_la/(inc_f_la*(1-prev_f_la)), 50, 0), \n",
    "    alldata['Value'],\n",
    "    xerr=squeeze(\n",
    "        array([[percentile(prev_f_la/(inc_f_la*(1-prev_f_la)),50, 0) - percentile(prev_f_la/(inc_f_la*(1-prev_f_la)), 2.5, 0)], \n",
    "            [percentile(prev_f_la/(inc_f_la*(1-prev_f_la)), 97.5, 0) - percentile(prev_f_la/(inc_f_la*(1-prev_f_la)),50, 0)]])),\n",
    "    linestyle='None', color='r', alpha=0.2)\n",
    "ax2.plot(\n",
    "    percentile(prev_f_la/(inc_f_la*(1-prev_f_la)), 50, 0), \n",
    "    alldata['Value'],\n",
    "    '.r')\n",
    "\n",
    "#ax2.set_xlim([0,0.08])#; ax2.set_ylim([0,0.08])\n",
    "#ax2.set_xlabel('Prevalence in sexually active women 15-24')\n",
    "#ax2.set_ylabel('Positivity')\n",
    "#ax2.set_title('Sexually active women 15-24')\n"
   ]
  },
  {
   "cell_type": "code",
   "execution_count": 54,
   "metadata": {
    "collapsed": false
   },
   "outputs": [
    {
     "data": {
      "text/plain": [
       "(0, 0.1)"
      ]
     },
     "execution_count": 54,
     "metadata": {},
     "output_type": "execute_result"
    },
    {
     "data": {
      "image/png": "[encoded data removed]",
      "text/plain": [
       "<matplotlib.figure.Figure at 0x117c5a690>"
      ]
     },
     "metadata": {},
     "output_type": "display_data"
    }
   ],
   "source": [
    "plt.plot(percentile((inc_f_la*(1-prev_f_la)), 50, 0), percentile(prev_f_la, 50, 0), '.r')\n",
    "plt.plot([0,1],[0,1])\n",
    "plt.xlim([0,0.2])\n",
    "plt.ylim([0,0.1])"
   ]
  },
  {
   "cell_type": "code",
   "execution_count": 56,
   "metadata": {
    "collapsed": false
   },
   "outputs": [
    {
     "data": {
      "text/plain": [
       "[<matplotlib.lines.Line2D at 0x11751b950>]"
      ]
     },
     "execution_count": 56,
     "metadata": {},
     "output_type": "execute_result"
    },
    {
     "data": {
      "image/png": "[encoded data removed]",
      "text/plain": [
       "<matplotlib.figure.Figure at 0x1181d1650>"
      ]
     },
     "metadata": {},
     "output_type": "display_data"
    }
   ],
   "source": [
    "plt.plot(percentile(inc_f_la, 50, 0), percentile(prev_f_la/(inc_f_la*(1-prev_f_la)), 50, 0), '.r')"
   ]
  },
  {
   "cell_type": "code",
   "execution_count": 57,
   "metadata": {
    "collapsed": false
   },
   "outputs": [
    {
     "data": {
      "text/plain": [
       "[<matplotlib.lines.Line2D at 0x118308ed0>]"
      ]
     },
     "execution_count": 57,
     "metadata": {},
     "output_type": "execute_result"
    },
    {
     "data": {
      "image/png": "[encoded data removed]",
      "text/plain": [
       "<matplotlib.figure.Figure at 0x1181db8d0>"
      ]
     },
     "metadata": {},
     "output_type": "display_data"
    }
   ],
   "source": [
    "plt.plot(percentile(prev_f_la, 50, 0), percentile(prev_f_la/(inc_f_la*(1-prev_f_la)), 50, 0), '.r')"
   ]
  },
  {
   "cell_type": "code",
   "execution_count": null,
   "metadata": {
    "collapsed": true
   },
   "outputs": [],
   "source": []
  }
 ],
 "metadata": {
  "kernelspec": {
   "display_name": "Python 2",
   "language": "python",
   "name": "python2"
  },
  "language_info": {
   "codemirror_mode": {
    "name": "ipython",
    "version": 2
   },
   "file_extension": ".py",
   "mimetype": "text/x-python",
   "name": "python",
   "nbconvert_exporter": "python",
   "pygments_lexer": "ipython2",
   "version": "2.7.10"
  }
 },
 "nbformat": 4,
 "nbformat_minor": 0
}
