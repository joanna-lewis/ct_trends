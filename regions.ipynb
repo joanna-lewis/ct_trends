{
 "cells": [
  {
   "cell_type": "code",
   "execution_count": 1,
   "metadata": {
    "collapsed": true
   },
   "outputs": [],
   "source": [
    "%matplotlib inline\n",
    "import matplotlib.pyplot as plt\n"
   ]
  },
  {
   "cell_type": "code",
   "execution_count": 2,
   "metadata": {
    "collapsed": true
   },
   "outputs": [],
   "source": [
    "# This script also contains the functions linking observed tests, symptomatic/asymptomatic/toal diagnoses, \n",
    "# incidence, prevalence, screening and other model parameters\n",
    "# Running it takes a little while because of all the symbolic algebra\n",
    "%run -i test_diag_fun.py\n",
    "\n",
    "# This script provides a function for calculating the likelihood of categorical data.\n",
    "%run -i multinomial_pmf.py\n",
    "\n",
    "# This script samples model parameters from prior distributions, following the method in england.ipynb.\n",
    "%run -i sample_parameters.py"
   ]
  },
  {
   "cell_type": "code",
   "execution_count": 53,
   "metadata": {
    "collapsed": false
   },
   "outputs": [
    {
     "name": "stdout",
     "output_type": "stream",
     "text": [
      "               AreaName  tests.male.15-19  positives.male.15-19  \\\n",
      "0                London           20573.0                2151.0   \n",
      "1         West Midlands           11532.0                1314.0   \n",
      "2         East Midlands           11619.0                1146.0   \n",
      "3       East of England           11156.0                 988.0   \n",
      "4            North East            7158.0                 766.0   \n",
      "5  Yorkshire and Humber           11965.0                1656.0   \n",
      "6            North West           17530.0                1981.0   \n",
      "7            South West           12276.0                1216.0   \n",
      "8            South East           17540.0                1511.0   \n",
      "9                London           22333.0                2172.0   \n",
      "\n",
      "   population.male.15-19  \n",
      "0               240789.0  \n",
      "1               181914.0  \n",
      "2               145232.0  \n",
      "3               187117.0  \n",
      "4                79797.0  \n",
      "5               167478.0  \n",
      "6               218359.0  \n",
      "7               163332.0  \n",
      "8               266496.0  \n",
      "9               238258.0  \n"
     ]
    }
   ],
   "source": [
    "# now read in the local testing and diagnosis rates\n",
    "import pandas as pd\n",
    "from pandas import *\n",
    "pd.options.mode.chained_assignment = None  # default='warn'\n",
    "\n",
    "alldata = pd.read_csv('age_sex_region.csv')\n",
    "alldata.index = range(len(alldata))\n",
    "print alldata[['AreaName','tests.male.15-19','positives.male.15-19', 'population.male.15-19']][:10]\n",
    "\n",
    "# la: Local Authority (Upper Tier)\n",
    "# gor: Government Office Region\n",
    "# phec: Public Health England Region\n",
    "# pher: Public Health England Centre"
   ]
  },
  {
   "cell_type": "code",
   "execution_count": 5,
   "metadata": {
    "collapsed": true
   },
   "outputs": [],
   "source": [
    "# NB random state (rs) is set in sample_parameters.py, above.\n",
    "\n",
    "# set up arrays to store, for each LA: \n",
    "test_sample_m = empty([n_sample, len(alldata)]) # testing rate\n",
    "test_sample_f = empty([n_sample, len(alldata)])\n",
    "diag_sample_m = empty([n_sample, len(alldata)]) # observed diagnosis rate\n",
    "diag_sample_f = empty([n_sample, len(alldata)])\n",
    "diag_m_la = empty([n_sample, len(alldata)]) # predicted diagnosis rate\n",
    "diag_f_la = empty([n_sample, len(alldata)])\n",
    "\n",
    "for i in xrange(len(alldata.index)):\n",
    "    \n",
    "    #####\n",
    "    # men\n",
    "    #####\n",
    "    # sample for the testing rate, per sexually active 15-24-year-old\n",
    "    test_sample_m[:,i] = rs.gamma(alldata['tests.male.total'][i],1,size = n_sample)/ \\\n",
    "        rs.binomial(alldata['population.male.15-19'][i] + alldata['population.male.20-24'][i], \n",
    "                        p_active_m_16_24, size=n_sample)\n",
    "    diag_sample_m[:,i] = rs.gamma(alldata['positives.male.total'][i],1,size = n_sample)/ \\\n",
    "        rs.binomial(alldata['population.male.15-19'][i] + alldata['population.male.20-24'][i], \n",
    "                        p_active_m_16_24, size=n_sample)\n",
    "        \n",
    "    #####\n",
    "    # women\n",
    "    #####\n",
    "    # sample for the testing rate, per sexually active 15-24-year-old\n",
    "    test_sample_f[:,i] = rs.gamma(alldata['tests.female.total'][i],1,size = n_sample)/ \\\n",
    "        rs.binomial(alldata['population.female.15-19'][i] + alldata['population.female.20-24'][i], \n",
    "                        p_active_f_16_24, size=n_sample)\n",
    "    diag_sample_f[:,i] = rs.gamma(alldata['positives.female.total'][i],1,size = n_sample)/ \\\n",
    "        rs.binomial(alldata['population.female.15-19'][i] + alldata['population.female.20-24'][i], \n",
    "                        p_active_f_16_24, size=n_sample)"
   ]
  },
  {
   "cell_type": "code",
   "execution_count": 6,
   "metadata": {
    "collapsed": false
   },
   "outputs": [
    {
     "name": "stdout",
     "output_type": "stream",
     "text": [
      "0 London 2016\n",
      "10 West Midlands 2015\n",
      "20 East Midlands 2014\n",
      "30 East of England 2013\n",
      "40 North East 2012\n"
     ]
    },
    {
     "name": "stderr",
     "output_type": "stream",
     "text": [
      "/System/Library/Frameworks/Python.framework/Versions/2.7/Extras/lib/python/scipy/optimize/minpack.py:236: RuntimeWarning: The iteration is not making good progress, as measured by the \n",
      "  improvement from the last ten iterations.\n",
      "  warnings.warn(msg, RuntimeWarning)\n"
     ]
    }
   ],
   "source": [
    "# set up arrays to store, for each LA: \n",
    "scr_m_la = empty([n_sample, len(alldata)]) # screening (estimated for each LA separately)\n",
    "scr_f_la = empty([n_sample, len(alldata)])\n",
    "inc_m_la = empty([n_sample, len(alldata)])  # estimated incidence\n",
    "inc_f_la = empty([n_sample, len(alldata)])\n",
    "prev_m_la = empty([n_sample, len(alldata)]) # estimated prevalence\n",
    "prev_f_la = empty([n_sample, len(alldata)])\n",
    "\n",
    "for i in xrange(len(alldata.index)):\n",
    "    \n",
    "    # keep track of whether stuff is happening\n",
    "    if fmod(i,10)==0:\n",
    "        print i, alldata.AreaName[i], alldata.year[i]\n",
    "    \n",
    "    #####\n",
    "    # men\n",
    "    #####\n",
    "        \n",
    "    # screening and diagnosis rates\n",
    "    for j in xrange(n_sample):\n",
    "        # local screening and incidence, given local testing and diagnoses\n",
    "        [inc_m_la[j,i], scr_m_la[j,i]] = fsolve(lambda x: test_diag_fun(concatenate([\n",
    "                        x, array([\n",
    "                                1-p_asymp_m[j], # proportion of incident infections which are symptomatic\n",
    "                                sc_m[j], # rate of self-clear \n",
    "                                att_symp[j],\n",
    "                                p_true_pos_m[j], \n",
    "                                p_false_pos_m[j]\n",
    "                            ])])) - array([test_sample_m[j,i],diag_sample_m[j,i]]), [0.09, 0.25])\n",
    "        # local prevalence, calculated from local screening and incidence\n",
    "        prev_m_la[j,i] = dyn_fun(\n",
    "            inc_m_la[j,i]*p_asymp_m[j], \n",
    "            sc_m[j] + scr_m_la[j,i]*p_true_pos_m[j], \n",
    "            inc_m_la[j,i]*(1-p_asymp_m[j]), \n",
    "            scr_m_la[j,i]*p_true_pos_m[j] + att_symp[j]*p_true_pos_m[j]\n",
    "        )\n",
    "    \n",
    "    #####\n",
    "    # women\n",
    "    #####\n",
    "\n",
    "    # screening and diagnosis rates\n",
    "    diag_f_la[:,i] = zeros(n_sample)\n",
    "    for j in xrange(n_sample):\n",
    "        # local screening and incidence, given local testing and diagnoses\n",
    "        [inc_f_la[j,i], scr_f_la[j,i]] = fsolve(lambda x: test_diag_fun(concatenate([\n",
    "                        x, array([\n",
    "                                1-p_asymp_f[j], # proportion of incident infections which are symptomatic\n",
    "                                sc_f[j], # rate of self-clear \n",
    "                                att_symp[j],\n",
    "                                p_true_pos_f[j], \n",
    "                                p_false_pos_f[j]\n",
    "                            ])])) - array([test_sample_f[j,i],diag_sample_f[j,i]]), [0.09, 0.25])\n",
    "        # local prevalence, calculated from local screening and incidence\n",
    "        prev_f_la[j,i] = dyn_fun(\n",
    "            inc_f_la[j,i]*p_asymp_f[j], \n",
    "            sc_f[j] + scr_f_la[j,i]*p_true_pos_f[j], \n",
    "            inc_f_la[j,i]*(1-p_asymp_f[j]), \n",
    "            scr_f_la[j,i]*p_true_pos_f[j] + att_symp[j]*p_true_pos_f[j]\n",
    "        )\n"
   ]
  },
  {
   "cell_type": "code",
   "execution_count": 54,
   "metadata": {
    "collapsed": false
   },
   "outputs": [
    {
     "name": "stdout",
     "output_type": "stream",
     "text": [
      "0       216.402399\n",
      "1       210.656247\n",
      "2       250.900375\n",
      "3       189.806917\n",
      "4       260.011626\n",
      "5       201.023260\n",
      "6       164.486114\n",
      "7       211.959404\n",
      "8       208.542597\n",
      "9       256.858884\n",
      "10      364.298725\n",
      "11      135.078969\n",
      "12      192.507604\n",
      "13      226.303194\n",
      "14      332.762417\n",
      "15      262.822555\n",
      "16      198.712144\n",
      "17      167.840453\n",
      "18      264.026403\n",
      "19      408.027459\n",
      "20      234.888819\n",
      "21      270.392068\n",
      "22      158.125726\n",
      "23      106.708402\n",
      "24      294.671204\n",
      "25      273.407206\n",
      "26      144.207659\n",
      "27      286.717700\n",
      "28      168.051240\n",
      "29      195.486049\n",
      "           ...    \n",
      "1428    223.878210\n",
      "1429    152.773165\n",
      "1430     86.625087\n",
      "1431    178.129846\n",
      "1432    150.169546\n",
      "1433    245.541000\n",
      "1434    259.109431\n",
      "1435    240.470749\n",
      "1436    211.515081\n",
      "1437    162.887294\n",
      "1438    216.479502\n",
      "1439    192.052002\n",
      "1440    223.247444\n",
      "1441    193.559431\n",
      "1442    269.048916\n",
      "1443    239.851543\n",
      "1444    237.140481\n",
      "1445    229.758952\n",
      "1446    169.759022\n",
      "1447    204.503523\n",
      "1448    218.418136\n",
      "1449    285.592289\n",
      "1450    191.388284\n",
      "1451    267.492288\n",
      "1452    212.120398\n",
      "1453    281.576179\n",
      "1454    223.652274\n",
      "1455    210.077637\n",
      "1456    245.922314\n",
      "1457    390.746951\n",
      "Name: Value, Length: 1296, dtype: float64\n"
     ]
    }
   ],
   "source": [
    "pid_data = pd.read_csv('PID_byarea.csv')\n",
    "pid_data.index = range(len(pid_data))\n",
    "pid_data = pid_data[pid_data.Sex == 'Female'] \n",
    "print pid_data['Value']\n"
   ]
  },
  {
   "cell_type": "code",
   "execution_count": 55,
   "metadata": {
    "collapsed": false
   },
   "outputs": [],
   "source": [
    "alldata = alldata.merge(pid_data, how='inner', left_on = list(['AreaCode', 'Timeperiod']), right_on = list(['AreaCode', 'Timeperiod']))"
   ]
  },
  {
   "cell_type": "code",
   "execution_count": 56,
   "metadata": {
    "collapsed": false
   },
   "outputs": [
    {
     "data": {
      "text/plain": [
       "['AreaCode',\n",
       " 'AreaName_x',\n",
       " 'year',\n",
       " 'Timeperiod',\n",
       " 'tests.male.15-19',\n",
       " 'tests.male.20-24',\n",
       " 'tests.male.total',\n",
       " 'tests.female.15-19',\n",
       " 'tests.female.20-24',\n",
       " 'tests.female.total',\n",
       " 'tests.total.15-19',\n",
       " 'tests.total.20-24',\n",
       " 'tests.total',\n",
       " 'positives.male.15-19',\n",
       " 'positives.male.20-24',\n",
       " 'positives.male.total',\n",
       " 'positives.female.15-19',\n",
       " 'positives.female.20-24',\n",
       " 'positives.female.total',\n",
       " 'positives.total.15-19',\n",
       " 'positives.total.20-24',\n",
       " 'positives.total',\n",
       " 'population.male.15-19',\n",
       " 'population.male.20-24',\n",
       " 'population.female.15-19',\n",
       " 'population.female.20-24',\n",
       " 'population.total',\n",
       " 'Unnamed: 0',\n",
       " 'IndicatorID',\n",
       " 'IndicatorName',\n",
       " 'ParentCode',\n",
       " 'ParentName',\n",
       " 'AreaName_y',\n",
       " 'AreaType',\n",
       " 'Sex',\n",
       " 'Age',\n",
       " 'CategoryType',\n",
       " 'Category',\n",
       " 'Value',\n",
       " 'LowerCI95.0limit',\n",
       " 'UpperCI95.0limit',\n",
       " 'LowerCI99.8limit',\n",
       " 'UpperCI99.8limit',\n",
       " 'Count',\n",
       " 'Denominator',\n",
       " 'Valuenote',\n",
       " 'RecentTrend',\n",
       " 'ComparedtoEnglandvalueorpercentiles',\n",
       " 'Comparedtosubnationalparentvalueorpercentiles',\n",
       " 'TimeperiodSortable']"
      ]
     },
     "execution_count": 56,
     "metadata": {},
     "output_type": "execute_result"
    }
   ],
   "source": [
    "list(alldata)"
   ]
  },
  {
   "cell_type": "code",
   "execution_count": 57,
   "metadata": {
    "collapsed": false
   },
   "outputs": [
    {
     "name": "stdout",
     "output_type": "stream",
     "text": [
      "     AreaCode            AreaName_x  year Timeperiod  tests.male.15-19  \\\n",
      "0   E12000007                London  2016    2015/16           20573.0   \n",
      "1   E12000005         West Midlands  2016    2015/16           11532.0   \n",
      "2   E12000004         East Midlands  2016    2015/16           11619.0   \n",
      "3   E12000006       East of England  2016    2015/16           11156.0   \n",
      "4   E12000001            North East  2016    2015/16            7158.0   \n",
      "5   E12000003  Yorkshire and Humber  2016    2015/16           11965.0   \n",
      "6   E12000002            North West  2016    2015/16           17530.0   \n",
      "7   E12000009            South West  2016    2015/16           12276.0   \n",
      "8   E12000008            South East  2016    2015/16           17540.0   \n",
      "9   E12000007                London  2015    2014/15           22333.0   \n",
      "10  E12000005         West Midlands  2015    2014/15           14278.0   \n",
      "11  E12000004         East Midlands  2015    2014/15           13763.0   \n",
      "12  E12000006       East of England  2015    2014/15           13351.0   \n",
      "13  E12000001            North East  2015    2014/15           10000.0   \n",
      "14  E12000003  Yorkshire and Humber  2015    2014/15           14112.0   \n",
      "15  E12000002            North West  2015    2014/15           22288.0   \n",
      "16  E12000009            South West  2015    2014/15           13214.0   \n",
      "17  E12000008            South East  2015    2014/15           21700.0   \n",
      "18  E12000007                London  2014    2013/14           27004.0   \n",
      "19  E12000005         West Midlands  2014    2013/14           16670.0   \n",
      "20  E12000004         East Midlands  2014    2013/14           19552.0   \n",
      "21  E12000006       East of England  2014    2013/14           15696.0   \n",
      "22  E12000001            North East  2014    2013/14           13198.0   \n",
      "23  E12000003  Yorkshire and Humber  2014    2013/14           19585.0   \n",
      "24  E12000002            North West  2014    2013/14           23001.0   \n",
      "25  E12000009            South West  2014    2013/14           13934.0   \n",
      "26  E12000008            South East  2014    2013/14           23583.0   \n",
      "27  E12000007                London  2013    2012/13           31145.0   \n",
      "28  E12000005         West Midlands  2013    2012/13           20065.0   \n",
      "29  E12000004         East Midlands  2013    2012/13               NaN   \n",
      "30  E12000006       East of England  2013    2012/13               NaN   \n",
      "31  E12000001            North East  2013    2012/13           19592.0   \n",
      "32  E12000003  Yorkshire and Humber  2013    2012/13           20257.0   \n",
      "33  E12000002            North West  2013    2012/13           27668.0   \n",
      "34  E12000009            South West  2013    2012/13               NaN   \n",
      "35  E12000008            South East  2013    2012/13               NaN   \n",
      "36  E12000007                London  2012    2011/12           36387.0   \n",
      "37  E12000005         West Midlands  2012    2011/12           26947.0   \n",
      "38  E12000004         East Midlands  2012    2011/12               NaN   \n",
      "39  E12000006       East of England  2012    2011/12               NaN   \n",
      "40  E12000001            North East  2012    2011/12           23503.0   \n",
      "41  E12000003  Yorkshire and Humber  2012    2011/12           18986.0   \n",
      "42  E12000002            North West  2012    2011/12           32955.0   \n",
      "43  E12000009            South West  2012    2011/12               NaN   \n",
      "44  E12000008            South East  2012    2011/12               NaN   \n",
      "\n",
      "    tests.male.20-24  tests.male.total  tests.female.15-19  \\\n",
      "0            67245.0           87818.0             53932.0   \n",
      "1            23162.0           34694.0             33562.0   \n",
      "2            20985.0           32604.0             32094.0   \n",
      "3            23623.0           34779.0             31885.0   \n",
      "4            12520.0           19678.0             18961.0   \n",
      "5            24651.0           36616.0             39784.0   \n",
      "6            37257.0           54787.0             58783.0   \n",
      "7            27925.0           40201.0             39007.0   \n",
      "8            37694.0           55234.0             53048.0   \n",
      "9            66457.0           88790.0             57227.0   \n",
      "10           27047.0           41325.0             40069.0   \n",
      "11           23183.0           36946.0             35537.0   \n",
      "12           27072.0           40423.0             37116.0   \n",
      "13           14205.0           24205.0             23002.0   \n",
      "14           25941.0           40053.0             44876.0   \n",
      "15           42146.0           64434.0             70167.0   \n",
      "16           27869.0           41083.0             42427.0   \n",
      "17           40411.0           62111.0             59639.0   \n",
      "18           65093.0           92097.0             61059.0   \n",
      "19           29623.0           46293.0             44422.0   \n",
      "20           26958.0           46510.0             41672.0   \n",
      "21           29566.0           45262.0             45132.0   \n",
      "22           15886.0           29084.0             27914.0   \n",
      "23           31116.0           50701.0             52695.0   \n",
      "24           42462.0           65463.0             70639.0   \n",
      "25           28767.0           42701.0             45516.0   \n",
      "26           42541.0           66124.0             65986.0   \n",
      "27           65842.0           96987.0             63848.0   \n",
      "28           30205.0           50270.0             49304.0   \n",
      "29               NaN               NaN                 NaN   \n",
      "30               NaN               NaN                 NaN   \n",
      "31           19155.0           38747.0             34612.0   \n",
      "32           30808.0           51065.0             54178.0   \n",
      "33           45279.0           72947.0             72440.0   \n",
      "34               NaN               NaN                 NaN   \n",
      "35               NaN               NaN                 NaN   \n",
      "36           67787.0          104174.0             68599.0   \n",
      "37           33809.0           60756.0             55038.0   \n",
      "38               NaN               NaN                 NaN   \n",
      "39               NaN               NaN                 NaN   \n",
      "40           22267.0           45770.0             39320.0   \n",
      "41           28701.0           47687.0             52733.0   \n",
      "42           47285.0           80240.0             80462.0   \n",
      "43               NaN               NaN                 NaN   \n",
      "44               NaN               NaN                 NaN   \n",
      "\n",
      "    tests.female.20-24  tests.female.total         ...          \\\n",
      "0             134835.0            188767.0         ...           \n",
      "1              53320.0             86882.0         ...           \n",
      "2              50580.0             82674.0         ...           \n",
      "3              53184.0             85069.0         ...           \n",
      "4              28967.0             47928.0         ...           \n",
      "5              62951.0            102735.0         ...           \n",
      "6              88595.0            147378.0         ...           \n",
      "7              63986.0            102993.0         ...           \n",
      "8              86900.0            139948.0         ...           \n",
      "9             136066.0            193293.0         ...           \n",
      "10             58244.0             98313.0         ...           \n",
      "11             53270.0             88807.0         ...           \n",
      "12             60129.0             97245.0         ...           \n",
      "13             30994.0             53996.0         ...           \n",
      "14             67841.0            112717.0         ...           \n",
      "15             98305.0            168472.0         ...           \n",
      "16             65353.0            107780.0         ...           \n",
      "17             89319.0            148958.0         ...           \n",
      "18            136473.0            197532.0         ...           \n",
      "19             63718.0            108140.0         ...           \n",
      "20             57819.0             99491.0         ...           \n",
      "21             67625.0            112757.0         ...           \n",
      "22             33195.0             61109.0         ...           \n",
      "23             73234.0            125929.0         ...           \n",
      "24             95281.0            165920.0         ...           \n",
      "25             66417.0            111933.0         ...           \n",
      "26             93669.0            159655.0         ...           \n",
      "27            133533.0            197381.0         ...           \n",
      "28             65146.0            114450.0         ...           \n",
      "29                 NaN                 NaN         ...           \n",
      "30                 NaN                 NaN         ...           \n",
      "31             35372.0             69984.0         ...           \n",
      "32             73300.0            127478.0         ...           \n",
      "33             94754.0            167194.0         ...           \n",
      "34                 NaN                 NaN         ...           \n",
      "35                 NaN                 NaN         ...           \n",
      "36            133664.0            202263.0         ...           \n",
      "37             65948.0            120986.0         ...           \n",
      "38                 NaN                 NaN         ...           \n",
      "39                 NaN                 NaN         ...           \n",
      "40             39291.0             78611.0         ...           \n",
      "41             68572.0            121305.0         ...           \n",
      "42             96724.0            177186.0         ...           \n",
      "43                 NaN                 NaN         ...           \n",
      "44                 NaN                 NaN         ...           \n",
      "\n",
      "    UpperCI95.0limit  LowerCI99.8limit  UpperCI99.8limit   Count  Denominator  \\\n",
      "0         197.939465               NaN               NaN  3888.0    2026969.0   \n",
      "1         263.845910               NaN               NaN  2777.0    1092398.0   \n",
      "2         253.208027               NaN               NaN  2125.0     875689.0   \n",
      "3         225.843076               NaN               NaN  2433.0    1120973.0   \n",
      "4         229.104182               NaN               NaN  1058.0     490486.0   \n",
      "5         267.791634               NaN               NaN  2661.0    1032171.0   \n",
      "6         317.707351               NaN               NaN  4207.0    1364805.0   \n",
      "7         242.963650               NaN               NaN  2254.0     966818.0   \n",
      "8         234.746711               NaN               NaN  3785.0    1664578.0   \n",
      "9         197.876268               NaN               NaN  3859.0    2012730.0   \n",
      "10        236.265664               NaN               NaN  2484.0    1093535.0   \n",
      "11        257.948492               NaN               NaN  2165.0     875431.0   \n",
      "12        232.832168               NaN               NaN  2508.0    1120171.0   \n",
      "13        225.453430               NaN               NaN  1048.0     493859.0   \n",
      "14        261.943178               NaN               NaN  2610.0    1035375.0   \n",
      "15        317.206972               NaN               NaN  4214.0    1369198.0   \n",
      "16        255.975157               NaN               NaN  2372.0     964711.0   \n",
      "17        239.715056               NaN               NaN  3871.0    1666522.0   \n",
      "18        209.626618               NaN               NaN  4079.0    2006490.0   \n",
      "19        250.250372               NaN               NaN  2642.0    1096784.0   \n",
      "20        257.453717               NaN               NaN  2166.0     877510.0   \n",
      "21        218.064589               NaN               NaN  2343.0    1118859.0   \n",
      "22        244.386802               NaN               NaN  1147.0     497306.0   \n",
      "23        266.741148               NaN               NaN  2678.0    1042730.0   \n",
      "24        283.845136               NaN               NaN  3794.0    1379867.0   \n",
      "25        258.672931               NaN               NaN  2402.0     966480.0   \n",
      "26        238.728232               NaN               NaN  3857.0    1667454.0   \n",
      "27        224.189576               NaN               NaN  4361.0    2003836.0   \n",
      "28        247.822786               NaN               NaN  2625.0    1100537.0   \n",
      "29        240.034927               NaN               NaN  2025.0     881190.0   \n",
      "30        206.207478               NaN               NaN  2219.0    1121827.0   \n",
      "31        228.765326               NaN               NaN  1077.0     499767.0   \n",
      "32        238.566901               NaN               NaN  2405.0    1049216.0   \n",
      "33        265.677908               NaN               NaN  3579.0    1391992.0   \n",
      "34        255.845932               NaN               NaN  2380.0     968388.0   \n",
      "35        230.560826               NaN               NaN  3735.0    1672766.0   \n",
      "36        230.843325               NaN               NaN  4480.0    1998388.0   \n",
      "37        250.108303               NaN               NaN  2658.0    1103926.0   \n",
      "38        252.332719               NaN               NaN  2141.0     885202.0   \n",
      "39        212.909866               NaN               NaN  2302.0    1126299.0   \n",
      "40        224.536861               NaN               NaN  1066.0     504133.0   \n",
      "41        249.875599               NaN               NaN  2532.0    1053559.0   \n",
      "42        271.431377               NaN               NaN  3681.0    1400676.0   \n",
      "43        287.983981               NaN               NaN  2699.0     973244.0   \n",
      "44        254.664242               NaN               NaN  4150.0    1679946.0   \n",
      "\n",
      "    Valuenote                    RecentTrend  \\\n",
      "0         NaN  Decreasing and getting better   \n",
      "1         NaN   Increasing and getting worse   \n",
      "2         NaN  Decreasing and getting better   \n",
      "3         NaN   Increasing and getting worse   \n",
      "4         NaN          No significant change   \n",
      "5         NaN   Increasing and getting worse   \n",
      "6         NaN   Increasing and getting worse   \n",
      "7         NaN  Decreasing and getting better   \n",
      "8         NaN  Decreasing and getting better   \n",
      "9         NaN                            NaN   \n",
      "10        NaN                            NaN   \n",
      "11        NaN                            NaN   \n",
      "12        NaN                            NaN   \n",
      "13        NaN                            NaN   \n",
      "14        NaN                            NaN   \n",
      "15        NaN                            NaN   \n",
      "16        NaN                            NaN   \n",
      "17        NaN                            NaN   \n",
      "18        NaN                            NaN   \n",
      "19        NaN                            NaN   \n",
      "20        NaN                            NaN   \n",
      "21        NaN                            NaN   \n",
      "22        NaN                            NaN   \n",
      "23        NaN                            NaN   \n",
      "24        NaN                            NaN   \n",
      "25        NaN                            NaN   \n",
      "26        NaN                            NaN   \n",
      "27        NaN                            NaN   \n",
      "28        NaN                            NaN   \n",
      "29        NaN                            NaN   \n",
      "30        NaN                            NaN   \n",
      "31        NaN                            NaN   \n",
      "32        NaN                            NaN   \n",
      "33        NaN                            NaN   \n",
      "34        NaN                            NaN   \n",
      "35        NaN                            NaN   \n",
      "36        NaN                            NaN   \n",
      "37        NaN                            NaN   \n",
      "38        NaN                            NaN   \n",
      "39        NaN                            NaN   \n",
      "40        NaN                            NaN   \n",
      "41        NaN                            NaN   \n",
      "42        NaN                            NaN   \n",
      "43        NaN                            NaN   \n",
      "44        NaN                            NaN   \n",
      "\n",
      "    ComparedtoEnglandvalueorpercentiles  \\\n",
      "0                                Better   \n",
      "1                                 Worse   \n",
      "2                                  Same   \n",
      "3                                Better   \n",
      "4                                Better   \n",
      "5                                 Worse   \n",
      "6                                 Worse   \n",
      "7                                  Same   \n",
      "8                                Better   \n",
      "9                                Better   \n",
      "10                               Better   \n",
      "11                                Worse   \n",
      "12                               Better   \n",
      "13                               Better   \n",
      "14                                Worse   \n",
      "15                                Worse   \n",
      "16                                 Same   \n",
      "17                                 Same   \n",
      "18                               Better   \n",
      "19                                 Same   \n",
      "20                                Worse   \n",
      "21                               Better   \n",
      "22                                 Same   \n",
      "23                                Worse   \n",
      "24                                Worse   \n",
      "25                                Worse   \n",
      "26                                 Same   \n",
      "27                               Better   \n",
      "28                                Worse   \n",
      "29                                 Same   \n",
      "30                               Better   \n",
      "31                                 Same   \n",
      "32                                 Same   \n",
      "33                                Worse   \n",
      "34                                Worse   \n",
      "35                                 Same   \n",
      "36                               Better   \n",
      "37                                 Same   \n",
      "38                                 Same   \n",
      "39                               Better   \n",
      "40                               Better   \n",
      "41                                 Same   \n",
      "42                                Worse   \n",
      "43                                Worse   \n",
      "44                                 Same   \n",
      "\n",
      "    Comparedtosubnationalparentvalueorpercentiles  TimeperiodSortable  \n",
      "0                                    Not compared            20150000  \n",
      "1                                    Not compared            20150000  \n",
      "2                                    Not compared            20150000  \n",
      "3                                    Not compared            20150000  \n",
      "4                                    Not compared            20150000  \n",
      "5                                    Not compared            20150000  \n",
      "6                                    Not compared            20150000  \n",
      "7                                    Not compared            20150000  \n",
      "8                                    Not compared            20150000  \n",
      "9                                    Not compared            20140000  \n",
      "10                                   Not compared            20140000  \n",
      "11                                   Not compared            20140000  \n",
      "12                                   Not compared            20140000  \n",
      "13                                   Not compared            20140000  \n",
      "14                                   Not compared            20140000  \n",
      "15                                   Not compared            20140000  \n",
      "16                                   Not compared            20140000  \n",
      "17                                   Not compared            20140000  \n",
      "18                                   Not compared            20130000  \n",
      "19                                   Not compared            20130000  \n",
      "20                                   Not compared            20130000  \n",
      "21                                   Not compared            20130000  \n",
      "22                                   Not compared            20130000  \n",
      "23                                   Not compared            20130000  \n",
      "24                                   Not compared            20130000  \n",
      "25                                   Not compared            20130000  \n",
      "26                                   Not compared            20130000  \n",
      "27                                   Not compared            20120000  \n",
      "28                                   Not compared            20120000  \n",
      "29                                   Not compared            20120000  \n",
      "30                                   Not compared            20120000  \n",
      "31                                   Not compared            20120000  \n",
      "32                                   Not compared            20120000  \n",
      "33                                   Not compared            20120000  \n",
      "34                                   Not compared            20120000  \n",
      "35                                   Not compared            20120000  \n",
      "36                                   Not compared            20110000  \n",
      "37                                   Not compared            20110000  \n",
      "38                                   Not compared            20110000  \n",
      "39                                   Not compared            20110000  \n",
      "40                                   Not compared            20110000  \n",
      "41                                   Not compared            20110000  \n",
      "42                                   Not compared            20110000  \n",
      "43                                   Not compared            20110000  \n",
      "44                                   Not compared            20110000  \n",
      "\n",
      "[45 rows x 50 columns]\n"
     ]
    },
    {
     "data": {
      "text/plain": [
       "(10000, 45)"
      ]
     },
     "execution_count": 57,
     "metadata": {},
     "output_type": "execute_result"
    }
   ],
   "source": [
    "print alldata\n",
    "shape(prev_f_la)"
   ]
  },
  {
   "cell_type": "code",
   "execution_count": 95,
   "metadata": {
    "collapsed": false
   },
   "outputs": [
    {
     "data": {
      "text/plain": [
       "(0.5, 0.7)"
      ]
     },
     "execution_count": 95,
     "metadata": {},
     "output_type": "execute_result"
    },
    {
     "data": {
      "image/png": "[encoded data removed]",
      "text/plain": [
       "<matplotlib.figure.Figure at 0x1126bbf90>"
      ]
     },
     "metadata": {},
     "output_type": "display_data"
    }
   ],
   "source": [
    "\n",
    "fig = plt.figure(figsize = (5,5))\n",
    "ax2 = fig.add_subplot(111)\n",
    "\n",
    "# ax2.errorbar(\n",
    "#     percentile(prev_f_la/(inc_f_la*(1-prev_f_la)), 50, 0)*logical_not(array(isnan(alldata['tests.male.15-19']))), \n",
    "#     alldata['Value'],\n",
    "#     xerr=squeeze(\n",
    "#         array([[percentile(prev_f_la/(inc_f_la*(1-prev_f_la)),50, 0) - percentile(prev_f_la/(inc_f_la*(1-prev_f_la)), 2.5, 0)], \n",
    "#             [percentile(prev_f_la/(inc_f_la*(1-prev_f_la)), 97.5, 0) - percentile(prev_f_la/(inc_f_la*(1-prev_f_la)),50, 0)]])),\n",
    "#     linestyle='None', color='r', alpha=0.2)\n",
    "\n",
    "sym_dict = {'London':'.', 'West Midlands':'^', 'East Midlands':'v', 'East of England':'o', 'North East':'*', \\\n",
    "            'Yorkshire and Humber':'+', 'North West':'x', 'South West':'<', 'South East':'>'}\n",
    "col_dict = {2012:'b', 2013:'g', 2014:'r', 2015:'c', 2016:'m'}\n",
    "\n",
    "for i in range(len(alldata.Value)):\n",
    "    ax2.plot(\n",
    "        percentile(prev_f_la/(inc_f_la*(1-prev_f_la)), 50, 0)[i]*logical_not(array(isnan(alldata['tests.male.15-19'])))[i], \n",
    "        array(alldata['Value'])[i],\n",
    "        marker = sym_dict[array(alldata['AreaName_x'])[i]],\n",
    "        color = col_dict[array(alldata['year'])[i]]\n",
    "        )\n",
    "\n",
    "ax2.set_xlim([0.5, 0.7])#; ax2.set_ylim([0,0.08])\n",
    "#ax2.set_xlabel('Prevalence in sexually active women 15-24')\n",
    "#ax2.set_ylabel('Positivity')\n",
    "#ax2.set_title('Sexually active women 15-24')\n"
   ]
  },
  {
   "cell_type": "code",
   "execution_count": 93,
   "metadata": {
    "collapsed": false
   },
   "outputs": [
    {
     "data": {
      "text/plain": [
       "'m'"
      ]
     },
     "execution_count": 93,
     "metadata": {},
     "output_type": "execute_result"
    }
   ],
   "source": [
    "col_dict['2016']"
   ]
  },
  {
   "cell_type": "code",
   "execution_count": 80,
   "metadata": {
    "collapsed": false
   },
   "outputs": [
    {
     "name": "stdout",
     "output_type": "stream",
     "text": [
      "(10000, 151)\n",
      "(10000, 151)\n",
      "0.562783848254\n"
     ]
    }
   ],
   "source": [
    "al = prev_f_la/(inc_f_la*(1-prev_f_la))\n",
    "print(shape(al))\n",
    "print shape(transpose(tile(array(al[:,0],ndmin=2),[151,1])))\n",
    "print percentile(array(al[:,0]), 50)"
   ]
  },
  {
   "cell_type": "code",
   "execution_count": 79,
   "metadata": {
    "collapsed": false
   },
   "outputs": [
    {
     "data": {
      "text/plain": [
       "[<matplotlib.lines.Line2D at 0x119ce8d50>]"
      ]
     },
     "execution_count": 79,
     "metadata": {},
     "output_type": "execute_result"
    },
    {
     "data": {
      "image/png": "[encoded data removed]",
      "text/plain": [
       "<matplotlib.figure.Figure at 0x1183530d0>"
      ]
     },
     "metadata": {},
     "output_type": "display_data"
    }
   ],
   "source": [
    "al = prev_f_la/(inc_f_la*(1-prev_f_la))\n",
    "al_diff = al - transpose(tile(array(al[:,0],ndmin=2),[151,1]))\n",
    "\n",
    "fig = plt.figure(figsize = (5,5))\n",
    "ax2 = fig.add_subplot(111)\n",
    "\n",
    "ax2.errorbar(\n",
    "    percentile(al_diff, 50, 0), \n",
    "    alldata['Value'],\n",
    "    xerr=squeeze(\n",
    "        array([[percentile(al_diff,50, 0) - percentile(al_diff, 2.5, 0)], \n",
    "            [percentile(al_diff, 97.5, 0) - percentile(al_diff,50, 0)]])),\n",
    "    linestyle='None', color='r', alpha=0.2)\n",
    "ax2.plot(\n",
    "    percentile(al_diff, 50, 0), \n",
    "    alldata['Value'],\n",
    "    '.r')\n",
    "\n",
    "#ax2.set_xlim([0,0.08])#; ax2.set_ylim([0,0.08])\n",
    "#ax2.set_xlabel('Prevalence in sexually active women 15-24')\n",
    "#ax2.set_ylabel('Positivity')\n",
    "#ax2.set_title('Sexually active women 15-24')\n"
   ]
  },
  {
   "cell_type": "code",
   "execution_count": 54,
   "metadata": {
    "collapsed": false
   },
   "outputs": [
    {
     "data": {
      "text/plain": [
       "(0, 0.1)"
      ]
     },
     "execution_count": 54,
     "metadata": {},
     "output_type": "execute_result"
    },
    {
     "data": {
      "image/png": "[encoded data removed]",
      "text/plain": [
       "<matplotlib.figure.Figure at 0x117c5a690>"
      ]
     },
     "metadata": {},
     "output_type": "display_data"
    }
   ],
   "source": [
    "plt.plot(percentile((inc_f_la*(1-prev_f_la)), 50, 0), percentile(prev_f_la, 50, 0), '.r')\n",
    "plt.plot([0,1],[0,1])\n",
    "plt.xlim([0,0.2])\n",
    "plt.ylim([0,0.1])"
   ]
  },
  {
   "cell_type": "code",
   "execution_count": 56,
   "metadata": {
    "collapsed": false
   },
   "outputs": [
    {
     "data": {
      "text/plain": [
       "[<matplotlib.lines.Line2D at 0x11751b950>]"
      ]
     },
     "execution_count": 56,
     "metadata": {},
     "output_type": "execute_result"
    },
    {
     "data": {
      "image/png": "[encoded data removed]",
      "text/plain": [
       "<matplotlib.figure.Figure at 0x1181d1650>"
      ]
     },
     "metadata": {},
     "output_type": "display_data"
    }
   ],
   "source": [
    "plt.plot(percentile(inc_f_la, 50, 0), percentile(prev_f_la/(inc_f_la*(1-prev_f_la)), 50, 0), '.r')"
   ]
  },
  {
   "cell_type": "code",
   "execution_count": 57,
   "metadata": {
    "collapsed": false
   },
   "outputs": [
    {
     "data": {
      "text/plain": [
       "[<matplotlib.lines.Line2D at 0x118308ed0>]"
      ]
     },
     "execution_count": 57,
     "metadata": {},
     "output_type": "execute_result"
    },
    {
     "data": {
      "image/png": "[encoded data removed]",
      "text/plain": [
       "<matplotlib.figure.Figure at 0x1181db8d0>"
      ]
     },
     "metadata": {},
     "output_type": "display_data"
    }
   ],
   "source": [
    "plt.plot(percentile(prev_f_la, 50, 0), percentile(prev_f_la/(inc_f_la*(1-prev_f_la)), 50, 0), '.r')"
   ]
  },
  {
   "cell_type": "code",
   "execution_count": null,
   "metadata": {
    "collapsed": true
   },
   "outputs": [],
   "source": []
  }
 ],
 "metadata": {
  "kernelspec": {
   "display_name": "Python 2",
   "language": "python",
   "name": "python2"
  },
  "language_info": {
   "codemirror_mode": {
    "name": "ipython",
    "version": 2
   },
   "file_extension": ".py",
   "mimetype": "text/x-python",
   "name": "python",
   "nbconvert_exporter": "python",
   "pygments_lexer": "ipython2",
   "version": "2.7.10"
  }
 },
 "nbformat": 4,
 "nbformat_minor": 0
}
